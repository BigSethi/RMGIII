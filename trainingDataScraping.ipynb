{
 "cells": [
  {
   "cell_type": "code",
   "execution_count": 1,
   "metadata": {},
   "outputs": [
    {
     "name": "stdout",
     "output_type": "stream",
     "text": [
      "the majority of cnn readers praised the ordering process saying it was easy and swift. \n",
      "still others said the us postal service didn't recognize their addresses or disqualified them because they run small businesses from their homes. \n",
      "as a medicare enrollee she is not yet eligible to have the cost of home tests bought at retailers covered. \n",
      "but i prefer not to especially since i'm not going to get reimbursed. \n",
      "medicare has said it will start covering home tests bought at retailers in the early spring. \n",
      "david baize of rutherfordton north carolina is surprised that federal officials have not put more of a focus on rapid delivery. \n",
      "meanwhile his family in the detroit area were sent their free federal tests soon after ordering them. \n",
      "this is an effort that has no precedent zients said. \n",
      "there's been incredibly strong demand and incredibly strong execution shipping 200 million tests directly to americans' doorsteps. \n",
      "falling case counts some of the urgency to get the free federal kits has passed. \n",
      "that number has since fallen to just over 136000 per day. \n",
      "but we're going to need these tests for the long run. \n"
     ]
    }
   ],
   "source": [
    "from bs4 import BeautifulSoup\n",
    "import requests\n",
    "\n",
    "# Get URL.\n",
    "html_text = requests.get('https://www.cnn.com/2022/02/16/politics/free-government-covid-test-kit-usps-shipment/index.html').text\n",
    "\n",
    "# Take all body text and combine into one whole paragraph.\n",
    "soup = BeautifulSoup(html_text, 'lxml')\n",
    "pargafs = soup.find_all('div', class_='zn-body__paragraph')\n",
    "rawblock = ''\n",
    "for pargaf in pargafs:\n",
    "    rawblock += ' ' + pargaf.text\n",
    "\n",
    "# Define characters and strings I want to ignore\n",
    "badwords = ['dr.', 'mr.', 'mrs.', 'ms.']\n",
    "badpunc = '''()-[]{};:\"\\,<>/@#$%^&*_~'''\n",
    "goodpunc = '''!?.'''\n",
    "\n",
    "procblock = rawblock.lower()\n",
    "for char in procblock:\n",
    "    if char in badpunc:\n",
    "        procblock = procblock.replace(char, '') \n",
    "\n",
    "procwordlist = procblock.split()\n",
    "finalsents = ['']\n",
    "endsent = False\n",
    "\n",
    "for word in procwordlist:\n",
    "    if endsent:\n",
    "        finalsents.append(word)\n",
    "        finalsents[len(finalsents) - 1] += \" \"\n",
    "        endsent = False\n",
    "    else:\n",
    "        finalsents[len(finalsents) - 1] += word + \" \"\n",
    "    for char in goodpunc:\n",
    "        if char in word and not word in badwords:\n",
    "            endsent = True\n",
    "    \n",
    "for sent in finalsents:\n",
    "    sentwordlen = sent.split()\n",
    "    if len(sentwordlen) <= 6 or len(sentwordlen) >= 25:\n",
    "        finalsents.remove(sent)\n",
    "    else:\n",
    "        print(sent)"
   ]
  }
 ],
 "metadata": {
  "interpreter": {
   "hash": "b38b666f41083fba72c74a9e32241ecd05bd2b7ea4aae7cba4a54d3c544805ae"
  },
  "kernelspec": {
   "display_name": "Python 3.9.6 64-bit ('3.9.6')",
   "language": "python",
   "name": "python3"
  },
  "language_info": {
   "codemirror_mode": {
    "name": "ipython",
    "version": 3
   },
   "file_extension": ".py",
   "mimetype": "text/x-python",
   "name": "python",
   "nbconvert_exporter": "python",
   "pygments_lexer": "ipython3",
   "version": "3.9.6"
  },
  "orig_nbformat": 4
 },
 "nbformat": 4,
 "nbformat_minor": 2
}
