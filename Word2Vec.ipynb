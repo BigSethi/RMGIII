{
 "cells": [
  {
   "cell_type": "code",
   "execution_count": 1,
   "metadata": {},
   "outputs": [],
   "source": [
    "import tensorflow as tf\n",
    "import numpy as np\n",
    "from tensorflow.keras import Sequential\n",
    "from tensorflow.keras.layers import Dense, Embedding, GlobalAveragePooling1D\n",
    "from tensorflow.keras.layers import TextVectorization\n",
    "import tqdm \n",
    "import os\n",
    "import io\n"
   ]
  },
  {
   "cell_type": "code",
   "execution_count": 2,
   "metadata": {},
   "outputs": [],
   "source": [
    "seed = 39\n",
    "vocab_size = 700000\n",
    "num_ns = 4\n",
    "sequence_length = 30\n",
    "embedding_dim = 128\n"
   ]
  },
  {
   "cell_type": "code",
   "execution_count": 3,
   "metadata": {},
   "outputs": [],
   "source": [
    "# Generates skip-gram pairs with negative sampling for a list of sequences\n",
    "# (int-encoded sentences) based on window size, number of negative samples\n",
    "# and vocabulary size.\n",
    "def generate_training_data(sequences, window_size, num_ns, vocab_size, seed):\n",
    "  # Elements of each training example are appended to these lists.\n",
    "  targets, contexts, labels = [], [], []\n",
    "\n",
    "  # Build the sampling table for vocab_size tokens.\n",
    "  sampling_table = tf.keras.preprocessing.sequence.make_sampling_table(vocab_size)\n",
    "\n",
    "  # Iterate over all sequences (sentences) in dataset.\n",
    "  for sequence in tqdm.tqdm(sequences):\n",
    "\n",
    "    # Generate positive skip-gram pairs for a sequence (sentence).\n",
    "    positive_skip_grams, _ = tf.keras.preprocessing.sequence.skipgrams(\n",
    "          sequence,\n",
    "          vocabulary_size=vocab_size,\n",
    "          sampling_table=sampling_table,\n",
    "          window_size=window_size,\n",
    "          negative_samples=0)\n",
    "\n",
    "    # Iterate over each positive skip-gram pair to produce training examples\n",
    "    # with positive context word and negative samples.\n",
    "    for target_word, context_word in positive_skip_grams:\n",
    "      context_class = tf.expand_dims(\n",
    "          tf.constant([context_word], dtype=\"int64\"), 1)\n",
    "      negative_sampling_candidates, _, _ = tf.random.log_uniform_candidate_sampler(\n",
    "          true_classes=context_class,\n",
    "          num_true=1,\n",
    "          num_sampled=num_ns,\n",
    "          unique=True,\n",
    "          range_max=vocab_size,\n",
    "          seed=seed,\n",
    "          name=\"negative_sampling\")\n",
    "\n",
    "      # Build context and label vectors (for one target word)\n",
    "      negative_sampling_candidates = tf.expand_dims(\n",
    "          negative_sampling_candidates, 1)\n",
    "\n",
    "      context = tf.concat([context_class, negative_sampling_candidates], 0)\n",
    "      label = tf.constant([1] + [0]*num_ns, dtype=\"int64\")\n",
    "\n",
    "      # Append each element from the training example to global lists.\n",
    "      targets.append(target_word)\n",
    "      contexts.append(context)\n",
    "      labels.append(label)\n",
    "\n",
    "  return targets, contexts, labels"
   ]
  },
  {
   "cell_type": "code",
   "execution_count": 4,
   "metadata": {},
   "outputs": [
    {
     "output_type": "stream",
     "name": "stdout",
     "text": [
      "[0.00315225 0.00315225 0.00547597 ... 0.98914884 0.98920336 0.98925789]\n"
     ]
    }
   ],
   "source": [
    "sampling_table =  tf.keras.preprocessing.sequence.make_sampling_table(vocab_size)\n",
    "\n",
    "print(sampling_table)"
   ]
  },
  {
   "cell_type": "code",
   "execution_count": 5,
   "metadata": {},
   "outputs": [
    {
     "output_type": "stream",
     "name": "stdout",
     "text": [
      "Found 230710 files belonging to 2 classes.\n",
      "['', '[UNK]', 'the', 'trump', 'to', 'a', 'of', 'and', 'in', 'that', 'his', 'for', 'on', 'he', 'is', 'with', 'donald', 'said', 'as', 'president', 'has', 'was', 'at', 'by', 'it', 'who', 'from', 'be', 'not', 'but', 'an', 'have', 'about', 'would', 'had', 'will', 'campaign', 'this', 'are', 'i', 'full', 'or', 'him', 'text', 'new', 'after', 'they', 'if', 'one', 'more', 'when', 'house', 'republican', 'clinton', 'its', 'been', 'what', 'which', 'their', 'out']\n"
     ]
    }
   ],
   "source": [
    "\n",
    "train_ds = tf.keras.preprocessing.text_dataset_from_directory(\n",
    "    \"dataset\", batch_size = 1024, seed = seed\n",
    ")\n",
    "\n",
    "text_ds = train_ds.map(lambda x, y: x)\n",
    "\n",
    "vectorize_layer = TextVectorization(\n",
    "    max_tokens = vocab_size,\n",
    "    output_mode = 'int', \n",
    "    output_sequence_length = sequence_length\n",
    ")\n",
    "\n",
    "vectorize_layer.adapt(text_ds)\n",
    "\n",
    "inverse_vocab = vectorize_layer.get_vocabulary()\n",
    "print(inverse_vocab[:60])\n",
    "\n",
    "\n"
   ]
  },
  {
   "cell_type": "code",
   "execution_count": 6,
   "metadata": {},
   "outputs": [
    {
     "output_type": "stream",
     "name": "stdout",
     "text": [
      "['', '[UNK]', 'the', 'trump', 'to', 'a', 'of', 'and', 'in', 'that', 'his', 'for', 'on', 'he', 'is', 'with', 'donald', 'said', 'as', 'president', 'has', 'was', 'at', 'by', 'it', 'who', 'from', 'be', 'not', 'but', 'an', 'have', 'about', 'would', 'had', 'will', 'campaign', 'this', 'are', 'i', 'full', 'or', 'him', 'text', 'new', 'after', 'they', 'if', 'one', 'more', 'when', 'house', 'republican', 'clinton', 'its', 'been', 'what', 'which', 'their', 'out']\n"
     ]
    }
   ],
   "source": [
    "\n",
    "text_vector_ds = text_ds.prefetch(tf.data.AUTOTUNE).map(vectorize_layer).unbatch()\n",
    "\n",
    "print(inverse_vocab[:60])"
   ]
  },
  {
   "cell_type": "code",
   "execution_count": 7,
   "metadata": {},
   "outputs": [
    {
     "output_type": "stream",
     "name": "stderr",
     "text": [
      "100%|██████████| 230710/230710 [06:05<00:00, 632.04it/s]\n"
     ]
    }
   ],
   "source": [
    "\n",
    "\n",
    "sequences = list(text_vector_ds.as_numpy_iterator())\n",
    "\n",
    "targets, contexts, labels = generate_training_data(\n",
    "    sequences = sequences, \n",
    "    window_size=2, \n",
    "    num_ns=num_ns, \n",
    "    vocab_size = vocab_size,\n",
    "    seed = seed\n",
    ")\n",
    "\n",
    "BATCH_SIZE = 1024\n",
    "BUFFER_SIZE = 10000\n",
    "AUTOTUNE = tf.data.AUTOTUNE\n",
    "\n",
    "dataset = tf.data.Dataset.from_tensor_slices(((targets, contexts), labels))\n",
    "dataset = dataset.shuffle(BUFFER_SIZE).batch(BATCH_SIZE, drop_remainder=True)\n",
    "\n",
    "dataset = dataset.cache().prefetch(buffer_size = AUTOTUNE)\n",
    "\n"
   ]
  },
  {
   "cell_type": "code",
   "execution_count": 8,
   "metadata": {},
   "outputs": [],
   "source": [
    "class Word2Vec(tf.keras.Model):\n",
    "    def __init__(self, vocab_size, embedding_dim):\n",
    "        super().__init__()\n",
    "\n",
    "        self.target_embedding = Embedding(vocab_size,\n",
    "        embedding_dim,\n",
    "        input_length=1,\n",
    "        name=\"w2v_embedding\"\n",
    "        )\n",
    "\n",
    "        self.context_embedding = Embedding(vocab_size,\n",
    "        embedding_dim,\n",
    "        input_length=num_ns+1\n",
    "        )\n",
    "\n",
    "    def call(self, pair):\n",
    "         target, context = pair\n",
    "\n",
    "         if len(target.shape) == 2:\n",
    "            target = tf.squeeze(target, axis=1)\n",
    "\n",
    "         word_emb = self.target_embedding(target)\n",
    "\n",
    "         context_emb = self.context_embedding(context)\n",
    "\n",
    "         context_emb = tf.squeeze(context_emb, axis = 2)\n",
    "\n",
    "         dots = tf.einsum('be,bce->bc', word_emb, context_emb)\n",
    "\n",
    "         return dots\n",
    "        "
   ]
  },
  {
   "cell_type": "code",
   "execution_count": 9,
   "metadata": {},
   "outputs": [
    {
     "output_type": "stream",
     "name": "stdout",
     "text": [
      "Epoch 1/20\n",
      "2486/2486 [==============================] - 81s 32ms/step - loss: 1.3905 - accuracy: 0.4168\n",
      "Epoch 2/20\n",
      "2486/2486 [==============================] - 78s 31ms/step - loss: 1.1777 - accuracy: 0.5328\n",
      "Epoch 3/20\n",
      "2486/2486 [==============================] - 79s 32ms/step - loss: 1.0694 - accuracy: 0.5826\n",
      "Epoch 4/20\n",
      "2486/2486 [==============================] - 78s 31ms/step - loss: 0.9912 - accuracy: 0.6170\n",
      "Epoch 5/20\n",
      "2486/2486 [==============================] - 78s 31ms/step - loss: 0.9289 - accuracy: 0.6438\n",
      "Epoch 6/20\n",
      "2486/2486 [==============================] - 78s 31ms/step - loss: 0.8773 - accuracy: 0.6657\n",
      "Epoch 7/20\n",
      "2486/2486 [==============================] - 77s 31ms/step - loss: 0.8340 - accuracy: 0.6837\n",
      "Epoch 8/20\n",
      "2486/2486 [==============================] - 77s 31ms/step - loss: 0.7972 - accuracy: 0.6991\n",
      "Epoch 9/20\n",
      "2486/2486 [==============================] - 78s 31ms/step - loss: 0.7658 - accuracy: 0.7119\n",
      "Epoch 10/20\n",
      "2486/2486 [==============================] - 77s 31ms/step - loss: 0.7388 - accuracy: 0.7229\n",
      "Epoch 11/20\n",
      "2486/2486 [==============================] - 78s 31ms/step - loss: 0.7153 - accuracy: 0.7324\n",
      "Epoch 12/20\n",
      "2486/2486 [==============================] - 77s 31ms/step - loss: 0.6949 - accuracy: 0.7405\n",
      "Epoch 13/20\n",
      "2486/2486 [==============================] - 77s 31ms/step - loss: 0.6770 - accuracy: 0.7475\n",
      "Epoch 14/20\n",
      "2486/2486 [==============================] - 76s 31ms/step - loss: 0.6611 - accuracy: 0.7534\n",
      "Epoch 15/20\n",
      "2486/2486 [==============================] - 77s 31ms/step - loss: 0.6470 - accuracy: 0.7587\n",
      "Epoch 16/20\n",
      "2486/2486 [==============================] - 76s 31ms/step - loss: 0.6344 - accuracy: 0.7633\n",
      "Epoch 17/20\n",
      "2486/2486 [==============================] - 77s 31ms/step - loss: 0.6230 - accuracy: 0.7674\n",
      "Epoch 18/20\n",
      "2486/2486 [==============================] - 77s 31ms/step - loss: 0.6127 - accuracy: 0.7710\n",
      "Epoch 19/20\n",
      "2486/2486 [==============================] - 78s 31ms/step - loss: 0.6034 - accuracy: 0.7741\n",
      "Epoch 20/20\n",
      "2486/2486 [==============================] - 77s 31ms/step - loss: 0.5949 - accuracy: 0.7770\n"
     ]
    },
    {
     "output_type": "execute_result",
     "data": {
      "text/plain": [
       "<keras.callbacks.History at 0x7f9f0dc66f10>"
      ]
     },
     "metadata": {},
     "execution_count": 9
    }
   ],
   "source": [
    "\n",
    "word2Vec = Word2Vec(vocab_size, embedding_dim)\n",
    "word2Vec.compile(optimizer = 'adam', \n",
    "                 loss = tf.keras.losses.CategoricalCrossentropy(from_logits = True),\n",
    "                 metrics = ['accuracy'])\n",
    "\n",
    "tensorboard_callback = tf.keras.callbacks.TensorBoard(log_dir=\"word2vec_logs\")\n",
    "\n",
    "word2Vec.fit(dataset, epochs=20, callbacks=[tensorboard_callback])"
   ]
  },
  {
   "cell_type": "code",
   "execution_count": 10,
   "metadata": {},
   "outputs": [],
   "source": [
    "weights = word2Vec.get_layer('w2v_embedding').get_weights()[0]\n",
    "vocab = vectorize_layer.get_vocabulary()\n",
    "\n",
    "out_v = io.open('w2vVectors.tsv', 'w', encoding='utf-8')\n",
    "out_m = io.open('w2Vmetadata.tsv', 'w', encoding='utf-8')\n",
    "\n",
    "for index, word in enumerate(vocab):\n",
    "  if index == 0:\n",
    "    continue  # skip 0, it's padding.\n",
    "  vec = weights[index]\n",
    "  out_v.write('\\t'.join([str(x) for x in vec]) + \"\\n\")\n",
    "  out_m.write(word + \"\\n\")\n",
    "out_v.close()\n",
    "out_m.close()"
   ]
  },
  {
   "cell_type": "code",
   "execution_count": 11,
   "metadata": {},
   "outputs": [
    {
     "output_type": "stream",
     "name": "stdout",
     "text": [
      "10000\n"
     ]
    }
   ],
   "source": [
    "print(len(word2Vec.get_layer('w2v_embedding').get_weights()[0]))"
   ]
  },
  {
   "cell_type": "code",
   "execution_count": 12,
   "metadata": {},
   "outputs": [],
   "source": [
    "np.save('w2vVectors.npy', weights)"
   ]
  }
 ],
 "metadata": {
  "interpreter": {
   "hash": "e111ae3915571b6edef858e479b1eab8559f9d45ac36164e1de90516ae344ee5"
  },
  "kernelspec": {
   "name": "python3712jvsc74a57bd04cd7ab41f5fca4b9b44701077e38c5ffd31fe66a6cab21e0214b68d958d0e462",
   "display_name": "Python 3.7.12 64-bit"
  },
  "language_info": {
   "codemirror_mode": {
    "name": "ipython",
    "version": 3
   },
   "file_extension": ".py",
   "mimetype": "text/x-python",
   "name": "python",
   "nbconvert_exporter": "python",
   "pygments_lexer": "ipython3",
   "version": "3.7.12"
  },
  "orig_nbformat": 4,
  "metadata": {
   "interpreter": {
    "hash": "4cd7ab41f5fca4b9b44701077e38c5ffd31fe66a6cab21e0214b68d958d0e462"
   }
  }
 },
 "nbformat": 4,
 "nbformat_minor": 2
}