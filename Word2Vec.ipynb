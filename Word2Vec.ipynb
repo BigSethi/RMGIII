{
 "cells": [
  {
   "cell_type": "code",
   "execution_count": 51,
   "metadata": {},
   "outputs": [],
   "source": [
    "import tensorflow as tf\n",
    "import numpy as np\n",
    "from tensorflow.keras import Sequential\n",
    "from tensorflow.keras.layers import Dense, Embedding, GlobalAveragePooling1D\n",
    "from tensorflow.keras.layers import TextVectorization\n",
    "import tqdm \n",
    "import os\n",
    "import io\n"
   ]
  },
  {
   "cell_type": "code",
   "execution_count": 24,
   "metadata": {},
   "outputs": [],
   "source": [
    "# Generates skip-gram pairs with negative sampling for a list of sequences\n",
    "# (int-encoded sentences) based on window size, number of negative samples\n",
    "# and vocabulary size.\n",
    "def generate_training_data(sequences, window_size, num_ns, vocab_size, seed):\n",
    "  # Elements of each training example are appended to these lists.\n",
    "  targets, contexts, labels = [], [], []\n",
    "\n",
    "  # Build the sampling table for vocab_size tokens.\n",
    "  sampling_table = tf.keras.preprocessing.sequence.make_sampling_table(vocab_size)\n",
    "\n",
    "  # Iterate over all sequences (sentences) in dataset.\n",
    "  for sequence in tqdm.tqdm(sequences):\n",
    "\n",
    "    # Generate positive skip-gram pairs for a sequence (sentence).\n",
    "    positive_skip_grams, _ = tf.keras.preprocessing.sequence.skipgrams(\n",
    "          sequence,\n",
    "          vocabulary_size=vocab_size,\n",
    "          sampling_table=sampling_table,\n",
    "          window_size=window_size,\n",
    "          negative_samples=0)\n",
    "\n",
    "    # Iterate over each positive skip-gram pair to produce training examples\n",
    "    # with positive context word and negative samples.\n",
    "    for target_word, context_word in positive_skip_grams:\n",
    "      context_class = tf.expand_dims(\n",
    "          tf.constant([context_word], dtype=\"int64\"), 1)\n",
    "      negative_sampling_candidates, _, _ = tf.random.log_uniform_candidate_sampler(\n",
    "          true_classes=context_class,\n",
    "          num_true=1,\n",
    "          num_sampled=num_ns,\n",
    "          unique=True,\n",
    "          range_max=vocab_size,\n",
    "          seed=seed,\n",
    "          name=\"negative_sampling\")\n",
    "\n",
    "      # Build context and label vectors (for one target word)\n",
    "      negative_sampling_candidates = tf.expand_dims(\n",
    "          negative_sampling_candidates, 1)\n",
    "\n",
    "      context = tf.concat([context_class, negative_sampling_candidates], 0)\n",
    "      label = tf.constant([1] + [0]*num_ns, dtype=\"int64\")\n",
    "\n",
    "      # Append each element from the training example to global lists.\n",
    "      targets.append(target_word)\n",
    "      contexts.append(context)\n",
    "      labels.append(label)\n",
    "\n",
    "  return targets, contexts, labels"
   ]
  },
  {
   "cell_type": "code",
   "execution_count": 25,
   "metadata": {},
   "outputs": [
    {
     "name": "stdout",
     "output_type": "stream",
     "text": [
      "[0.00315225 0.00315225 0.00547597 ... 0.60335544 0.60343743 0.60351941]\n"
     ]
    }
   ],
   "source": [
    "sampling_table =  tf.keras.preprocessing.sequence.make_sampling_table(4096)\n",
    "\n",
    "print(sampling_table)"
   ]
  },
  {
   "cell_type": "code",
   "execution_count": 26,
   "metadata": {},
   "outputs": [
    {
     "name": "stdout",
     "output_type": "stream",
     "text": [
      "Found 230710 files belonging to 2 classes.\n",
      "['', '[UNK]', 'the', 'trump', 'to', 'a', 'of', 'and', 'in', 'that', 'his', 'for', 'on', 'he', 'is', 'with', 'donald', 'said', 'as', 'president', 'has', 'was', 'at', 'by', 'it', 'who', 'from', 'be', 'not', 'but', 'an', 'have', 'about', 'would', 'had', 'will', 'campaign', 'this', 'are', 'i', 'full', 'or', 'him', 'text', 'new', 'after', 'they', 'if', 'one', 'more', 'when', 'house', 'republican', 'clinton', 'its', 'been', 'what', 'which', 'their', 'out']\n"
     ]
    }
   ],
   "source": [
    "seed = 39\n",
    "vocab_size = 4096\n",
    "num_ns = 4\n",
    "sequence_length = 25\n",
    "\n",
    "train_ds = tf.keras.preprocessing.text_dataset_from_directory(\n",
    "    \"dataset\", batch_size = 1024, seed = seed\n",
    ")\n",
    "\n",
    "text_ds = train_ds.map(lambda x, y: x)\n",
    "\n",
    "vectorize_layer = TextVectorization(\n",
    "    max_tokens = vocab_size,\n",
    "    output_mode = 'int', \n",
    "    output_sequence_length = sequence_length\n",
    ")\n",
    "\n",
    "vectorize_layer.adapt(text_ds)\n",
    "\n",
    "inverse_vocab = vectorize_layer.get_vocabulary()\n",
    "print(inverse_vocab[:60])\n",
    "\n",
    "\n"
   ]
  },
  {
   "cell_type": "code",
   "execution_count": 27,
   "metadata": {},
   "outputs": [
    {
     "name": "stdout",
     "output_type": "stream",
     "text": [
      "['', '[UNK]', 'the', 'trump', 'to', 'a', 'of', 'and', 'in', 'that', 'his', 'for', 'on', 'he', 'is', 'with', 'donald', 'said', 'as', 'president', 'has', 'was', 'at', 'by', 'it', 'who', 'from', 'be', 'not', 'but', 'an', 'have', 'about', 'would', 'had', 'will', 'campaign', 'this', 'are', 'i', 'full', 'or', 'him', 'text', 'new', 'after', 'they', 'if', 'one', 'more', 'when', 'house', 'republican', 'clinton', 'its', 'been', 'what', 'which', 'their', 'out']\n"
     ]
    }
   ],
   "source": [
    "\n",
    "text_vector_ds = text_ds.prefetch(tf.data.AUTOTUNE).map(vectorize_layer).unbatch()\n",
    "\n",
    "print(inverse_vocab[:60])"
   ]
  },
  {
   "cell_type": "code",
   "execution_count": 28,
   "metadata": {},
   "outputs": [
    {
     "name": "stderr",
     "output_type": "stream",
     "text": [
      "100%|██████████| 230710/230710 [06:39<00:00, 576.97it/s]\n"
     ]
    }
   ],
   "source": [
    "\n",
    "\n",
    "sequences = list(text_vector_ds.as_numpy_iterator())\n",
    "\n",
    "targets, contexts, labels = generate_training_data(\n",
    "    sequences = sequences, \n",
    "    window_size=2, \n",
    "    num_ns=num_ns, \n",
    "    vocab_size = vocab_size,\n",
    "    seed = seed\n",
    ")\n",
    "\n",
    "BATCH_SIZE = 1024\n",
    "BUFFER_SIZE = 10000\n",
    "AUTOTUNE = tf.data.AUTOTUNE\n",
    "\n",
    "dataset = tf.data.Dataset.from_tensor_slices(((targets, contexts), labels))\n",
    "dataset = dataset.shuffle(BUFFER_SIZE).batch(BATCH_SIZE, drop_remainder=True)\n",
    "\n",
    "dataset = dataset.cache().prefetch(buffer_size = AUTOTUNE)\n",
    "\n"
   ]
  },
  {
   "cell_type": "code",
   "execution_count": 40,
   "metadata": {},
   "outputs": [],
   "source": [
    "class Word2Vec(tf.keras.Model):\n",
    "    def __init__(self, vocab_size, embedding_dim):\n",
    "        super().__init__()\n",
    "\n",
    "        self.target_embedding = Embedding(vocab_size,\n",
    "        embedding_dim,\n",
    "        input_length=1,\n",
    "        name=\"w2v_embedding\"\n",
    "        )\n",
    "\n",
    "        self.context_embedding = Embedding(vocab_size,\n",
    "        embedding_dim,\n",
    "        input_length=num_ns+1\n",
    "        )\n",
    "\n",
    "    def call(self, pair):\n",
    "         target, context = pair\n",
    "\n",
    "         if len(target.shape) == 2:\n",
    "            target = tf.squeeze(target, axis=1)\n",
    "\n",
    "         word_emb = self.target_embedding(target)\n",
    "\n",
    "         context_emb = self.context_embedding(context)\n",
    "\n",
    "         context_emb = tf.squeeze(context_emb, axis = 2)\n",
    "\n",
    "         dots = tf.einsum('be,bce->bc', word_emb, context_emb)\n",
    "\n",
    "         return dots\n",
    "        "
   ]
  },
  {
   "cell_type": "code",
   "execution_count": 41,
   "metadata": {},
   "outputs": [
    {
     "name": "stdout",
     "output_type": "stream",
     "text": [
      "Epoch 1/20\n",
      "1774/1774 [==============================] - 41s 23ms/step - loss: 1.3977 - accuracy: 0.4147\n",
      "Epoch 2/20\n",
      "1774/1774 [==============================] - 34s 19ms/step - loss: 1.2162 - accuracy: 0.5118\n",
      "Epoch 3/20\n",
      "1774/1774 [==============================] - 37s 21ms/step - loss: 1.1353 - accuracy: 0.5488\n",
      "Epoch 4/20\n",
      "1774/1774 [==============================] - 36s 20ms/step - loss: 1.0805 - accuracy: 0.5728\n",
      "Epoch 5/20\n",
      "1774/1774 [==============================] - 39s 22ms/step - loss: 1.0377 - accuracy: 0.5911\n",
      "Epoch 6/20\n",
      "1774/1774 [==============================] - 41s 23ms/step - loss: 1.0020 - accuracy: 0.6061\n",
      "Epoch 7/20\n",
      "1774/1774 [==============================] - 40s 23ms/step - loss: 0.9715 - accuracy: 0.6190\n",
      "Epoch 8/20\n",
      "1774/1774 [==============================] - 38s 22ms/step - loss: 0.9451 - accuracy: 0.6298\n",
      "Epoch 9/20\n",
      "1774/1774 [==============================] - 34s 19ms/step - loss: 0.9221 - accuracy: 0.6393\n",
      "Epoch 10/20\n",
      "1774/1774 [==============================] - 34s 19ms/step - loss: 0.9020 - accuracy: 0.6474\n",
      "Epoch 11/20\n",
      "1774/1774 [==============================] - 37s 21ms/step - loss: 0.8843 - accuracy: 0.6545\n",
      "Epoch 12/20\n",
      "1774/1774 [==============================] - 39s 22ms/step - loss: 0.8686 - accuracy: 0.6608\n",
      "Epoch 13/20\n",
      "1774/1774 [==============================] - 37s 21ms/step - loss: 0.8547 - accuracy: 0.6663\n",
      "Epoch 14/20\n",
      "1774/1774 [==============================] - 38s 21ms/step - loss: 0.8422 - accuracy: 0.6713\n",
      "Epoch 15/20\n",
      "1774/1774 [==============================] - 38s 22ms/step - loss: 0.8310 - accuracy: 0.6756\n",
      "Epoch 16/20\n",
      "1774/1774 [==============================] - 37s 21ms/step - loss: 0.8209 - accuracy: 0.6796\n",
      "Epoch 17/20\n",
      "1774/1774 [==============================] - 35s 19ms/step - loss: 0.8116 - accuracy: 0.6833\n",
      "Epoch 18/20\n",
      "1774/1774 [==============================] - 37s 21ms/step - loss: 0.8032 - accuracy: 0.6866\n",
      "Epoch 19/20\n",
      "1774/1774 [==============================] - 35s 20ms/step - loss: 0.7954 - accuracy: 0.6896\n",
      "Epoch 20/20\n",
      "1774/1774 [==============================] - 36s 20ms/step - loss: 0.7882 - accuracy: 0.6924\n"
     ]
    },
    {
     "data": {
      "text/plain": [
       "<keras.callbacks.History at 0x2313f2f49a0>"
      ]
     },
     "execution_count": 41,
     "metadata": {},
     "output_type": "execute_result"
    }
   ],
   "source": [
    "embedding_dim = 128\n",
    "word2Vec = Word2Vec(vocab_size, embedding_dim)\n",
    "word2Vec.compile(optimizer = 'adam', \n",
    "                 loss = tf.keras.losses.CategoricalCrossentropy(from_logits = True),\n",
    "                 metrics = ['accuracy'])\n",
    "\n",
    "tensorboard_callback = tf.keras.callbacks.TensorBoard(log_dir=\"logs\")\n",
    "\n",
    "word2Vec.fit(dataset, epochs=20, callbacks=[tensorboard_callback])"
   ]
  },
  {
   "cell_type": "code",
   "execution_count": 42,
   "metadata": {},
   "outputs": [],
   "source": [
    "weights = word2Vec.get_layer('w2v_embedding').get_weights()[0]\n",
    "vocab = vectorize_layer.get_vocabulary()\n",
    "\n",
    "out_v = io.open('w2vVectors.tsv', 'w', encoding='utf-8')\n",
    "out_m = io.open('w2Vmetadata.tsv', 'w', encoding='utf-8')\n",
    "\n",
    "for index, word in enumerate(vocab):\n",
    "  if index == 0:\n",
    "    continue  # skip 0, it's padding.\n",
    "  vec = weights[index]\n",
    "  out_v.write('\\t'.join([str(x) for x in vec]) + \"\\n\")\n",
    "  out_m.write(word + \"\\n\")\n",
    "out_v.close()\n",
    "out_m.close()"
   ]
  },
  {
   "cell_type": "code",
   "execution_count": 50,
   "metadata": {},
   "outputs": [
    {
     "name": "stdout",
     "output_type": "stream",
     "text": [
      "4096\n"
     ]
    }
   ],
   "source": [
    "print(len(word2Vec.get_layer('w2v_embedding').get_weights()[0]))"
   ]
  },
  {
   "cell_type": "code",
   "execution_count": null,
   "metadata": {},
   "outputs": [],
   "source": [
    "np.save('w2vVectors.npy', weights)"
   ]
  }
 ],
 "metadata": {
  "interpreter": {
   "hash": "e111ae3915571b6edef858e479b1eab8559f9d45ac36164e1de90516ae344ee5"
  },
  "kernelspec": {
   "display_name": "Python 3.9.6 64-bit ('venv': venv)",
   "language": "python",
   "name": "python3"
  },
  "language_info": {
   "codemirror_mode": {
    "name": "ipython",
    "version": 3
   },
   "file_extension": ".py",
   "mimetype": "text/x-python",
   "name": "python",
   "nbconvert_exporter": "python",
   "pygments_lexer": "ipython3",
   "version": "3.9.6"
  },
  "orig_nbformat": 4
 },
 "nbformat": 4,
 "nbformat_minor": 2
}
