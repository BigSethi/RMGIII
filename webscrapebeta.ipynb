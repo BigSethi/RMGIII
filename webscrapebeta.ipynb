{
 "cells": [
  {
   "cell_type": "code",
   "execution_count": 4,
   "metadata": {},
   "outputs": [],
   "source": [
    "from bs4 import BeautifulSoup\n",
    "import requests\n",
    "\n",
    "# Get URL.\n",
    "html_text = requests.get('https://www.msnbc.com/rachel-maddow-show/mcconnells-supreme-court-ultimatum-may-not-be-scary-he-thinks-msna1124771').text\n",
    "\n",
    "# Take all body text and combine into one whole paragraph.\n",
    "soup = BeautifulSoup(html_text, 'lxml')\n",
    "pargafs = soup.find_all('p', class_=True)\n",
    "rawblock = ''\n",
    "for pargaf in pargafs:\n",
    "    rawblock += ' ' + pargaf.text\n",
    "\n",
    "# Define characters and strings I want to ignore\n",
    "badwords = ['dr.', 'mr.', 'mrs.', 'ms.']\n",
    "badpunc = '''()-[]{};:\"\\,<>/@#$%^&*_~'''\n",
    "goodpunc = '''!?.'''\n",
    "goodlets = 'abcdefghijklmnopqrstuvwxyz\"\\'.,:;!?/- '\n",
    "\n",
    "procblock = rawblock.lower()\n",
    "for char in procblock:\n",
    "    if char not in goodlets:\n",
    "        procblock = procblock.replace(char, '') \n",
    "\n",
    "procwordlist = procblock.split()\n",
    "finalsents = ['']\n",
    "endsent = False\n",
    "\n",
    "for word in procwordlist:\n",
    "    if endsent:\n",
    "        finalsents.append(word)\n",
    "        finalsents[len(finalsents) - 1] += \" \"\n",
    "        endsent = False\n",
    "    else:\n",
    "        finalsents[len(finalsents) - 1] += word + \" \"\n",
    "    for char in goodpunc:\n",
    "        if char in word and not word in badwords:\n",
    "            endsent = True\n",
    "    \n",
    "\n",
    "with open('temptemp', 'w') as f:\n",
    "    for sent in finalsents:\n",
    "        f.write(sent + \"\\n\")"
   ]
  }
 ],
 "metadata": {
  "interpreter": {
   "hash": "b38b666f41083fba72c74a9e32241ecd05bd2b7ea4aae7cba4a54d3c544805ae"
  },
  "kernelspec": {
   "display_name": "Python 3.9.6 64-bit ('3.9.6')",
   "language": "python",
   "name": "python3"
  },
  "language_info": {
   "codemirror_mode": {
    "name": "ipython",
    "version": 3
   },
   "file_extension": ".py",
   "mimetype": "text/x-python",
   "name": "python",
   "nbconvert_exporter": "python",
   "pygments_lexer": "ipython3",
   "version": "3.9.6"
  },
  "orig_nbformat": 4
 },
 "nbformat": 4,
 "nbformat_minor": 2
}
